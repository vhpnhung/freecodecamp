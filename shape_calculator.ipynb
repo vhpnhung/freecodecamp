{
 "cells": [
  {
   "cell_type": "code",
   "execution_count": 23,
   "metadata": {},
   "outputs": [],
   "source": [
    "class Rectangle():\n",
    "\n",
    "    def __init__(self, height=10, width=5):\n",
    "        self.height = height\n",
    "        self.width = width\n",
    "\n",
    "    def set_height(self, height):\n",
    "        self.height = height\n",
    "    \n",
    "    def set_width(self, width):\n",
    "        self.width = width     \n",
    "    \n",
    "    def get_area(self):\n",
    "        self.area = self.height*self.width\n",
    "        return self.area\n",
    "\n",
    "    def get_perimeter(self):\n",
    "        self.area = (self.height+self.width)*2\n",
    "        return self.area\n",
    "\n",
    "    def get_diagonal(self):\n",
    "        self.area = (self.height**2+self.width**2)**0.5\n",
    "        return self.area\n",
    "    \n",
    "    def get_picture(self):\n",
    "        if self.height > 50 or self.width > 50:\n",
    "            return \"Too big to be illustrated\"\n",
    "        else:\n",
    "            for _ in range(self.height):\n",
    "                print(\"*\"*self.width)\n",
    "\n",
    "    def get_amount_inside(self, h, w):\n",
    "        if h>self.height or w>self.width:\n",
    "            return 0\n",
    "        else:\n",
    "            return int(self.height/h)*int(self.width/w)\n",
    "    "
   ]
  },
  {
   "cell_type": "code",
   "execution_count": 24,
   "metadata": {},
   "outputs": [],
   "source": [
    "class Square(Rectangle):\n",
    "    def __init__(self, side=9):\n",
    "        self.height = self.width = side\n",
    "\n",
    "    def set_side(self, side):\n",
    "        self.height = self.width = side\n",
    "\n",
    "    def set_height(self, height):\n",
    "        self.height = self.width = height\n",
    "    \n",
    "    def set_width(self, width):\n",
    "        self.height = self.width = width "
   ]
  },
  {
   "cell_type": "code",
   "execution_count": 25,
   "metadata": {},
   "outputs": [
    {
     "name": "stdout",
     "output_type": "stream",
     "text": [
      "*****\n",
      "*****\n",
      "*****\n",
      "*****\n",
      "*****\n",
      "*****\n",
      "*****\n",
      "*****\n",
      "*****\n",
      "*****\n"
     ]
    },
    {
     "data": {
      "text/plain": [
       "3"
      ]
     },
     "execution_count": 25,
     "metadata": {},
     "output_type": "execute_result"
    }
   ],
   "source": [
    "a = Rectangle()\n",
    "a.get_picture()\n",
    "a.get_amount_inside(h=3,w=5)\n"
   ]
  }
 ],
 "metadata": {
  "kernelspec": {
   "display_name": "base",
   "language": "python",
   "name": "python3"
  },
  "language_info": {
   "codemirror_mode": {
    "name": "ipython",
    "version": 3
   },
   "file_extension": ".py",
   "mimetype": "text/x-python",
   "name": "python",
   "nbconvert_exporter": "python",
   "pygments_lexer": "ipython3",
   "version": "3.10.9"
  },
  "orig_nbformat": 4
 },
 "nbformat": 4,
 "nbformat_minor": 2
}
