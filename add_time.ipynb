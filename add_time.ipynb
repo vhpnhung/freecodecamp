{
 "cells": [
  {
   "cell_type": "code",
   "execution_count": 124,
   "metadata": {},
   "outputs": [],
   "source": [
    "import math"
   ]
  },
  {
   "cell_type": "code",
   "execution_count": 125,
   "metadata": {},
   "outputs": [],
   "source": [
    "def calculate_weekday(weekday, add_weekday=0):\n",
    "    # create 2 dicts\n",
    "    weekdays_dict = {\n",
    "        \"sunday\": 1,\n",
    "        \"monday\": 2,\n",
    "        \"tuesday\": 3,\n",
    "        \"wednesday\": 4,\n",
    "        \"thursday\": 5,\n",
    "        \"friday\": 6,\n",
    "        \"saturday\": 7, \n",
    "    }\n",
    "\n",
    "    reversed_dict = {}\n",
    "    for key, value in weekdays_dict.items():\n",
    "        reversed_dict[value] = key.capitalize()\n",
    "    \n",
    "    \n",
    "    # calculate\n",
    "    if weekdays_dict[weekday.lower()] + add_weekday > 7:\n",
    "        added_weekday = weekdays_dict[weekday.lower()] + add_weekday - 7\n",
    "    else:\n",
    "        added_weekday = weekdays_dict[weekday.lower()] + add_weekday\n",
    "    added_weekday = reversed_dict[added_weekday]\n",
    "    return added_weekday"
   ]
  },
  {
   "cell_type": "code",
   "execution_count": 126,
   "metadata": {},
   "outputs": [],
   "source": [
    "def add_time(time, addition=\"0\", weekday=\"Monday\"):\n",
    "    more_day=0\n",
    "    # convert time into 24h\n",
    "    time_period = time.split(\" \")\n",
    "    time_24 = time_period[0].split(\":\")\n",
    "    time_24[0] = int(time_24[0]) if time_period[1].upper() == \"AM\" else (int(time_24[0])+12)\n",
    "    time_24[1] = int(time_24[1])\n",
    "\n",
    "    # convert addtion to int\n",
    "    addition = addition.split(\":\")\n",
    "    addition[0] = int(addition[0])\n",
    "    addition[1] = int(addition[1])\n",
    "\n",
    "    # minutes\n",
    "    if time_24[1]+addition[1] >= 60:\n",
    "        time_24[1] = time_24[1]+addition[1]-60\n",
    "        time_24[0] += 1\n",
    "    else:\n",
    "        time_24[1] = time_24[1]+addition[1]\n",
    "    \n",
    "    # hours\n",
    "    if time_24[0]+addition[0] >= 24:\n",
    "        time_24[0] = (time_24[0]+addition[0])%24\n",
    "        if (time_24[0]+addition[0])/24 <= 1:\n",
    "            more_day = 1\n",
    "        else:\n",
    "            more_day = math.floor((time_24[0]+addition[0])/24)\n",
    "    else:\n",
    "        time_24[0] = time_24[0]+addition[0]\n",
    "    \n",
    "    # convert time into 12h\n",
    "    time_12 = [\"hour\", time_24[1], \"AM/PM\"]\n",
    "    if 12<time_24[0]<24:\n",
    "        time_12[0] = time_24[0]-12     # PM\n",
    "        time_12[2] = \"PM\"\n",
    "    elif time_24[0] == 12:\n",
    "        time_12[0] = time_24[0]        # PM\n",
    "        time_12[2] = \"PM\"\n",
    "    elif time_24[0] == 24:\n",
    "        time_12[0] = time_24[0]-24     # AM\n",
    "        time_12[2] = \"AM\"\n",
    "    else:\n",
    "        time_12[0] = time_24[0]        # AM\n",
    "        time_12[2] = \"AM\"\n",
    "    \n",
    "    # format to hh:mm AM/PM\n",
    "    for i in range(2):\n",
    "        if len(str(time_12[i])) == 1:\n",
    "            time_12[i] = \"0\"+str(time_12[i])\n",
    "        else:\n",
    "            time_12[i] = str(time_12[i])\n",
    "    print(f\"Result: {time_12[0]}:{time_12[1]} {time_12[2]} ({calculate_weekday(weekday, add_weekday=more_day)})\")"
   ]
  },
  {
   "cell_type": "code",
   "execution_count": 127,
   "metadata": {},
   "outputs": [
    {
     "name": "stdout",
     "output_type": "stream",
     "text": [
      "Result: 06:10 PM (Monday)\n",
      "Result: 02:02 PM (Monday)\n",
      "Result: 12:03 PM (Monday)\n",
      "Result: 01:40 AM (Tuesday)\n",
      "Result: 00:03 AM (Wednesday)\n",
      "Result: 07:42 AM (Tuesday)\n"
     ]
    }
   ],
   "source": [
    "add_time(\"3:00 PM\", \"3:10\")\n",
    "# Returns: 6:10 PM\n",
    "\n",
    "add_time(\"11:30 AM\", \"2:32\", \"Monday\")\n",
    "# Returns: 2:02 PM, Monday\n",
    "\n",
    "add_time(\"11:43 AM\", \"00:20\")\n",
    "# Returns: 12:03 PM\n",
    "\n",
    "add_time(\"10:10 PM\", \"3:30\")\n",
    "# Returns: 1:40 AM (next day)\n",
    "\n",
    "add_time(\"11:43 PM\", \"24:20\", \"tueSday\")\n",
    "# Returns: 12:03 AM, Thursday (2 days later)\n",
    "\n",
    "add_time(\"6:30 PM\", \"205:12\")\n",
    "# Returns: 7:42 AM (9 days later)"
   ]
  }
 ],
 "metadata": {
  "kernelspec": {
   "display_name": "base",
   "language": "python",
   "name": "python3"
  },
  "language_info": {
   "codemirror_mode": {
    "name": "ipython",
    "version": 3
   },
   "file_extension": ".py",
   "mimetype": "text/x-python",
   "name": "python",
   "nbconvert_exporter": "python",
   "pygments_lexer": "ipython3",
   "version": "3.10.9"
  },
  "orig_nbformat": 4
 },
 "nbformat": 4,
 "nbformat_minor": 2
}
