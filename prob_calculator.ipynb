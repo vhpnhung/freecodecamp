{
 "cells": [
  {
   "cell_type": "code",
   "execution_count": 111,
   "metadata": {},
   "outputs": [],
   "source": [
    "import random"
   ]
  },
  {
   "cell_type": "code",
   "execution_count": 112,
   "metadata": {},
   "outputs": [],
   "source": [
    "class Hat:\n",
    "    def __init__(self, red=0, orange=0, black=0, blue=0, pink=0, striped=0):\n",
    "        if red == orange == black == blue == pink == striped == 0:\n",
    "            raise ValueError(\"At least 1 ball\")\n",
    "        else:\n",
    "        # create contents instance attribute\n",
    "            self.contents = []\n",
    "            for _ in range(red):\n",
    "                self.contents.append(\"red\")\n",
    "            for _ in range(orange):\n",
    "                self.contents.append(\"orange\")\n",
    "            for _ in range(black):\n",
    "                self.contents.append(\"black\")\n",
    "            for _ in range(blue):\n",
    "                self.contents.append(\"blue\")\n",
    "            for _ in range(pink):\n",
    "                self.contents.append(\"pink\")\n",
    "            for _ in range(striped):\n",
    "                self.contents.append(\"striped\")\n",
    "            print(self.contents)\n",
    "\n",
    "    \n",
    "    def draw(self, number):\n",
    "        # get a list of picked balls\n",
    "        self.pick = []\n",
    "        if number > len(self.contents):\n",
    "            self.pick = self.contents\n",
    "        else:\n",
    "            for _ in range(number):\n",
    "                self.pick.append(self.contents.pop(random.randrange(0,len(self.contents),1)))\n",
    "        # count the number of balls picked of each color\n",
    "        self.appeared = {}\n",
    "        for color in self.pick:\n",
    "            if color in self.appeared.keys():\n",
    "                self.appeared[color]+=1\n",
    "            else:\n",
    "                self.appeared[color] = 1\n",
    "        return self.appeared\n",
    "            "
   ]
  },
  {
   "cell_type": "code",
   "execution_count": 114,
   "metadata": {},
   "outputs": [],
   "source": [
    "def experiment(hat, num_balls_draw, expected_balls, num_experiments):\n",
    "    bingo = 0               # represent the number of times the event occurs\n",
    "    for _ in range(num_experiments):\n",
    "        got_1_time = 0      # represent if a specific color is picked correctly as expected\n",
    "        pick_result = hat.draw(num_balls_draw)\n",
    "        for color in pick_result.keys():    # check each color if the number of balls picked satisfies expectation or not\n",
    "            if color in expected_balls.keys():\n",
    "                if pick_result[color] >= expected_balls[color]:\n",
    "                    got_1_time+=1\n",
    "        if got_1_time == len(expected_balls):   # if all colors expected are satisfied, the event occurs (bingo += 1)\n",
    "            bingo+=1\n",
    "    return bingo/num_experiments    # probability"
   ]
  },
  {
   "cell_type": "code",
   "execution_count": 115,
   "metadata": {},
   "outputs": [
    {
     "name": "stdout",
     "output_type": "stream",
     "text": [
      "['red', 'orange', 'orange', 'black', 'black', 'black', 'black', 'black', 'blue', 'blue', 'blue', 'blue', 'pink', 'pink', 'pink']\n"
     ]
    }
   ],
   "source": [
    "a = Hat(red=1, pink=3, black=5, orange=2, blue=4)"
   ]
  },
  {
   "cell_type": "code",
   "execution_count": 116,
   "metadata": {},
   "outputs": [
    {
     "data": {
      "text/plain": [
       "0.001"
      ]
     },
     "execution_count": 116,
     "metadata": {},
     "output_type": "execute_result"
    }
   ],
   "source": [
    "experiment(hat=a, num_balls_draw=5, expected_balls={\"black\":2, \"blue\":1}, num_experiments=2000)"
   ]
  }
 ],
 "metadata": {
  "kernelspec": {
   "display_name": "base",
   "language": "python",
   "name": "python3"
  },
  "language_info": {
   "codemirror_mode": {
    "name": "ipython",
    "version": 3
   },
   "file_extension": ".py",
   "mimetype": "text/x-python",
   "name": "python",
   "nbconvert_exporter": "python",
   "pygments_lexer": "ipython3",
   "version": "3.10.9"
  },
  "orig_nbformat": 4
 },
 "nbformat": 4,
 "nbformat_minor": 2
}
