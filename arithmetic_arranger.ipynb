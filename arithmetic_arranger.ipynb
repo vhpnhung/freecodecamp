{
 "cells": [
  {
   "cell_type": "code",
   "execution_count": 367,
   "metadata": {},
   "outputs": [],
   "source": [
    "def split_element(list):\n",
    "    i = 0\n",
    "    for cal in list:\n",
    "        if \" \" in cal:\n",
    "            element = cal.split()\n",
    "            if len(element) == 2:\n",
    "                if \"+\" in element[0]:\n",
    "                    element[0] = element[0].replace(\"+\",\"\")\n",
    "                    element.insert(1,\"+\")\n",
    "                elif \"-\" in element[0]:\n",
    "                    element[0] = element[0].replace(\"-\",\"\")\n",
    "                    element.insert(1,\"-\")\n",
    "                elif \"+\" in element[1]:\n",
    "                    element[1] = element[1].replace(\"+\",\"\")\n",
    "                    element.insert(1,\"+\")\n",
    "                elif \"-\" in element[1]:\n",
    "                    element[1] = element[1].replace(\"-\",\"\")\n",
    "                    element.insert(1,\"-\")\n",
    "        else:\n",
    "            if \"+\" in cal:\n",
    "                element = cal.split(\"+\")\n",
    "                element.insert(1,\"+\")\n",
    "            else:\n",
    "                element = cal.split(\"-\")\n",
    "                element.insert(1,\"-\")\n",
    "        list[i] = element\n",
    "        i+=1\n",
    "    return list"
   ]
  },
  {
   "cell_type": "code",
   "execution_count": 368,
   "metadata": {},
   "outputs": [],
   "source": [
    "def valid(list):\n",
    "    if len(list) > 4:\n",
    "        raise ValueError(\"Too many problems\")\n",
    "    for cal in list:\n",
    "        try:\n",
    "            int(cal[0])\n",
    "            int(cal[2])\n",
    "        except:\n",
    "            raise ValueError(\"Numbers must only contain digits\")\n",
    "        if cal[1] not in[\"+\",\"-\"]:\n",
    "            raise KeyError(\"Operator must be + or -\")\n",
    "        for element in cal:\n",
    "            if len(element) >= 5:\n",
    "                raise ValueError(\"Number cannot be more than 4 digits\")\n",
    "    print(\"All problems are valid\")\n",
    "    return list\n",
    "\n",
    "            "
   ]
  },
  {
   "cell_type": "code",
   "execution_count": 369,
   "metadata": {},
   "outputs": [],
   "source": [
    "def calculate(problem):\n",
    "    if \"+\" in problem:\n",
    "        problem.append(str(int(problem[0])+int(problem[2])))\n",
    "    else:\n",
    "        problem.append(str(int(problem[0])-int(problem[2])))"
   ]
  },
  {
   "cell_type": "code",
   "execution_count": 370,
   "metadata": {},
   "outputs": [],
   "source": [
    "def space(list):\n",
    "    print(\"Here is the result:\")\n",
    "    # first line\n",
    "    for i in range(len(list)):\n",
    "        list[i][0] = (\" \"*(6-len(list[i][0])))+list[i][0]\n",
    "        print(list[i][0], end=\"    \")\n",
    "        list[i][2] = (\" \"*(5-len(list[i][2])))+list[i][2]       # prepare number of the second line\n",
    "    print()\n",
    "    \n",
    "    # second line\n",
    "    for i in range(len(list)):\n",
    "        print(list[i][1], list[i][2], sep=\"\", end=\"    \")\n",
    "    print()\n",
    "\n",
    "    # --- line\n",
    "    for i in range(len(list)):\n",
    "        print(\"-\"*6, end=\"    \")\n",
    "    print()\n",
    "\n",
    "    # result line\n",
    "    for i in range(len(list)):\n",
    "        list[i][3] = (\" \"*(6-len(list[i][3])))+list[i][3]\n",
    "        print(list[i][3], end=\"    \")     \n",
    "\n",
    "    print(\"\\nAll done!\")   "
   ]
  },
  {
   "cell_type": "code",
   "execution_count": 371,
   "metadata": {},
   "outputs": [],
   "source": [
    "def arithmetic_arranger(list):\n",
    "    split_element(list)\n",
    "    valid(list)\n",
    "    for prob in list:\n",
    "        calculate(prob)\n",
    "    space(list)"
   ]
  },
  {
   "cell_type": "code",
   "execution_count": 372,
   "metadata": {},
   "outputs": [
    {
     "name": "stdout",
     "output_type": "stream",
     "text": [
      "All problems are valid\n",
      "Here is the result:\n",
      "   100      2000      9999         1    \n",
      "+    3    - 4000    +   10    +  300    \n",
      "------    ------    ------    ------    \n",
      "   103     -2000     10009       301    \n",
      "All done!\n"
     ]
    }
   ],
   "source": [
    "test = [\"100+ 3\",\"2000-4000\", \"9999 +10\", \"1 + 300\"]\n",
    "arithmetic_arranger(test)"
   ]
  }
 ],
 "metadata": {
  "kernelspec": {
   "display_name": "base",
   "language": "python",
   "name": "python3"
  },
  "language_info": {
   "codemirror_mode": {
    "name": "ipython",
    "version": 3
   },
   "file_extension": ".py",
   "mimetype": "text/x-python",
   "name": "python",
   "nbconvert_exporter": "python",
   "pygments_lexer": "ipython3",
   "version": "3.10.9"
  },
  "orig_nbformat": 4
 },
 "nbformat": 4,
 "nbformat_minor": 2
}
