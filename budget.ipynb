{
 "cells": [
  {
   "cell_type": "code",
   "execution_count": 356,
   "metadata": {},
   "outputs": [],
   "source": [
    "class Category():\n",
    "\n",
    "    def __init__(self, name):\n",
    "        self.name = name\n",
    "        self.ledger = []\n",
    "        self.balance = 0\n",
    "\n",
    "    def deposit(self, amount, description=\"\"):\n",
    "        if amount <= 0:\n",
    "            raise ValueError(\"Amount must be more than 0\")\n",
    "        self.ledger.append({\"amount\":amount, \"description\": description})\n",
    "        self.balance += amount\n",
    "        \n",
    "    def withdraw(self, amount, description=\"\"):\n",
    "        if amount > self.balance:\n",
    "            return False\n",
    "        else:\n",
    "            self.ledger.append({\"amount\":-1*amount, \"description\": description})\n",
    "            self.balance -= amount\n",
    "            return True\n",
    "\n",
    "    \n",
    "    def get_balance(self):\n",
    "        return self.balance\n",
    "    \n",
    "    def transfer(self, amount, destination):\n",
    "        withdrawal = self.withdraw(amount, description=f\"Transfer to {destination.name}\")\n",
    "        if withdrawal == True:\n",
    "            destination.deposit(amount, description=f\"Transfer from {self.name}\")\n",
    "            return True\n",
    "        else:\n",
    "            return False\n",
    "\n",
    "    def show_list(self):\n",
    "        # first line ****\n",
    "        if len(self.name)%2 == 0:\n",
    "            decor1 = decor2 = \"*\"*int((30-len(self.name))/2)\n",
    "        else:\n",
    "            decor1 = \"*\"*int((30-len(self.name)-3)/2)\n",
    "            decor2 = \"*\"*int((30-len(self.name)-1)/2)\n",
    "        print(decor1, self.name, decor2)\n",
    "\n",
    "        # all\n",
    "        for i in range(len(self.ledger)):\n",
    "            if len(self.ledger[i][\"description\"]) >= 23:\n",
    "                print(self.ledger[i][\"description\"][:24], end=\"  \")\n",
    "            else:\n",
    "                print(self.ledger[i][\"description\"], end=\" \"*(30-len(str(self.ledger[i][\"amount\"]))-len(self.ledger[i][\"description\"])))\n",
    "            print(self.ledger[i][\"amount\"], end=\"\\n\")\n"
   ]
  },
  {
   "cell_type": "code",
   "execution_count": 357,
   "metadata": {},
   "outputs": [],
   "source": [
    "def create_spend_chart(objects):\n",
    "    # create a storage for y_axis items\n",
    "    y_axis = {}\n",
    "    for i in range(0,110,10):\n",
    "        y_axis[i] = []\n",
    "    \n",
    "    # calculate the number of \"o\"\n",
    "    total = 0\n",
    "    seg = {}\n",
    "    for category in objects:\n",
    "        total += category.balance\n",
    "    for category in objects:\n",
    "        seg[category.name] = int(category.balance/total*10)\n",
    "    \n",
    "    # store \"o\" into storage\n",
    "    for category in seg.keys():\n",
    "        # draw \"o\"\n",
    "        for o in range(seg[category]+1):\n",
    "            y_axis[o*10].append(\"O\")\n",
    "        # insert empty\n",
    "        for x in range(seg[category]+1,len(y_axis)):\n",
    "            y_axis[x*10].append(\" \")\n",
    "    \n",
    "    # draw the chart\n",
    "        # def a draw function\n",
    "    def draw(number):\n",
    "        for draw in y_axis[number]:\n",
    "            print(draw, end=\"\\t\")\n",
    "        # y_axis name\n",
    "    print(\"Percentage spent by category\")\n",
    "        # draw 100-line\n",
    "    print(\"100|\", end=\"\\t\")\n",
    "    draw(100)\n",
    "        # draw 90-10 lines\n",
    "    for line in range(90,0,-10):\n",
    "        print(\"\\n \"+str(line)+\"|\", end=\"\\t\")\n",
    "        draw(line)\n",
    "        # draw 0-line\n",
    "    print(\"\\n  0|\", end=\"\\t\")\n",
    "    draw(0)\n",
    "\n",
    "        # draw ----- line\n",
    "    print(\"\\n\",\"-\"*30)\n",
    "\n",
    "        # draw category name (vetical)\n",
    "    print(\" \"*4,end=\"\\t\")\n",
    "            # store name (like \"o\")\n",
    "    max_length = 0\n",
    "    for category in objects:\n",
    "        if len(category.name) >= max_length:\n",
    "            max_length = len(category.name)\n",
    "    char = []\n",
    "    for category in objects:\n",
    "        char.append(category.name+\" \"*(max_length-len(category.name)))\n",
    "    character_list = []\n",
    "    for line in range(max_length):\n",
    "        character_list.append([])\n",
    "        for item in char:\n",
    "            character_list[line].append(item[line])\n",
    "            # draw based on character_list\n",
    "        for letter in character_list[line]:\n",
    "            print(letter, end=\"\\t\")\n",
    "        print(\"\\n\", end=\" \"*4+\"\\t\")"
   ]
  },
  {
   "cell_type": "code",
   "execution_count": 358,
   "metadata": {},
   "outputs": [
    {
     "data": {
      "text/plain": [
       "True"
      ]
     },
     "execution_count": 358,
     "metadata": {},
     "output_type": "execute_result"
    }
   ],
   "source": [
    "food = Category(\"FOOD\")\n",
    "food.deposit(500,\"eg1\")\n",
    "\n",
    "clothing = Category(\"CLOTHING\")\n",
    "clothing.deposit(4000,\"hhhhhhhhhdifdfdkfhjdsfhjdshfjsdhfjsahfjsahfljshdfjshdf\")\n",
    "clothing.withdraw(1000,\"eg3\")\n",
    "\n",
    "clothing.transfer(1000,food)"
   ]
  },
  {
   "cell_type": "code",
   "execution_count": 359,
   "metadata": {},
   "outputs": [
    {
     "data": {
      "text/plain": [
       "2000"
      ]
     },
     "execution_count": 359,
     "metadata": {},
     "output_type": "execute_result"
    }
   ],
   "source": [
    "clothing.get_balance()"
   ]
  },
  {
   "cell_type": "code",
   "execution_count": 360,
   "metadata": {},
   "outputs": [
    {
     "name": "stdout",
     "output_type": "stream",
     "text": [
      "Percentage spent by category\n",
      "100|\t \t \t\n",
      " 90|\t \t \t\n",
      " 80|\t \t \t\n",
      " 70|\t \t \t\n",
      " 60|\t \t \t\n",
      " 50|\t \tO\t\n",
      " 40|\tO\tO\t\n",
      " 30|\tO\tO\t\n",
      " 20|\tO\tO\t\n",
      " 10|\tO\tO\t\n",
      "  0|\tO\tO\t\n",
      " ------------------------------\n",
      "    \tF\tC\t\n",
      "    \tO\tL\t\n",
      "    \tO\tO\t\n",
      "    \tD\tT\t\n",
      "    \t \tH\t\n",
      "    \t \tI\t\n",
      "    \t \tN\t\n",
      "    \t \tG\t\n",
      "    \t"
     ]
    }
   ],
   "source": [
    "create_spend_chart([food, clothing])"
   ]
  }
 ],
 "metadata": {
  "kernelspec": {
   "display_name": "base",
   "language": "python",
   "name": "python3"
  },
  "language_info": {
   "codemirror_mode": {
    "name": "ipython",
    "version": 3
   },
   "file_extension": ".py",
   "mimetype": "text/x-python",
   "name": "python",
   "nbconvert_exporter": "python",
   "pygments_lexer": "ipython3",
   "version": "3.10.9"
  },
  "orig_nbformat": 4
 },
 "nbformat": 4,
 "nbformat_minor": 2
}
